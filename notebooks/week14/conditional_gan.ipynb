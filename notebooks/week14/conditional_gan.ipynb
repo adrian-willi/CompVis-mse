{
 "cells": [
  {
   "cell_type": "markdown",
   "metadata": {
    "id": "XoPgY-VqJ7J1"
   },
   "source": [
    "# Conditional GAN\n",
    "\n",
    "**Author:** [Sayak Paul](https://twitter.com/RisingSayak)<br>\n",
    "**Date created:** 2021/07/13<br>\n",
    "**Last modified:** 2021/07/15<br>\n",
    "**Description:** Training a GAN conditioned on class labels to generate handwritten digits."
   ]
  },
  {
   "cell_type": "markdown",
   "metadata": {
    "id": "WpFTAUjTJ7J3"
   },
   "source": [
    "Generative Adversarial Networks (GANs) let us generate novel image data, video data,\n",
    "or audio data from a random input. Typically, the random input is sampled\n",
    "from a normal distribution, before going through a series of transformations that turn\n",
    "it into something plausible (image, video, audio, etc.).\n",
    "\n",
    "However, a simple [DCGAN](https://arxiv.org/abs/1511.06434) doesn't let us control\n",
    "the appearance (e.g. class) of the samples we're generating. For instance,\n",
    "with a GAN that generates MNIST handwritten digits, a simple DCGAN wouldn't let us\n",
    "choose the class of digits we're generating.\n",
    "To be able to control what we generate, we need to _condition_ the GAN output\n",
    "on a semantic input, such as the class of an image.\n",
    "\n",
    "In this example, we'll build a **Conditional GAN** that can generate MNIST handwritten\n",
    "digits conditioned on a given class. Such a model can have various useful applications:\n",
    "\n",
    "* let's say you are dealing with an\n",
    "[imbalanced image dataset](https://developers.google.com/machine-learning/data-prep/construct/sampling-splitting/imbalanced-data),\n",
    "and you'd like to gather more examples for the skewed class to balance the dataset.\n",
    "Data collection can be a costly process on its own. You could instead train a Conditional GAN and use\n",
    "it to generate novel images for the class that needs balancing.\n",
    "* Since the generator learns to associate the generated samples with the class labels,\n",
    "its representations can also be used for [other downstream tasks](https://arxiv.org/abs/1809.11096).\n",
    "\n",
    "Following are the references used for developing this example:\n",
    "\n",
    "* [Conditional Generative Adversarial Nets](https://arxiv.org/abs/1411.1784)\n",
    "* [Lecture on Conditional Generation from Coursera](https://www.coursera.org/lecture/build-basic-generative-adversarial-networks-gans/conditional-generation-inputs-2OPrG)\n",
    "\n",
    "If you need a refresher on GANs, you can refer to the \"Generative adversarial networks\"\n",
    "section of\n",
    "[this resource](https://livebook.manning.com/book/deep-learning-with-python-second-edition/chapter-12/r-3/232).\n",
    "\n",
    "This example requires TensorFlow 2.5 or higher, as well as TensorFlow Docs, which can be\n",
    "installed using the following command:"
   ]
  },
  {
   "cell_type": "code",
   "execution_count": null,
   "metadata": {
    "id": "1sG8YmtzJ7J3"
   },
   "outputs": [],
   "source": [
    "!pip install -q git+https://github.com/tensorflow/docs"
   ]
  },
  {
   "cell_type": "markdown",
   "metadata": {
    "id": "4QbYFOljJ7J4"
   },
   "source": [
    "## Imports"
   ]
  },
  {
   "cell_type": "code",
   "execution_count": 1,
   "metadata": {
    "id": "riK-unJdJ7J4"
   },
   "outputs": [],
   "source": [
    "from tensorflow import keras\n",
    "from tensorflow.keras import layers\n",
    "\n",
    "from tensorflow_docs.vis import embed\n",
    "import matplotlib.pyplot as plt\n",
    "import tensorflow as tf\n",
    "import numpy as np\n",
    "import imageio"
   ]
  },
  {
   "cell_type": "markdown",
   "metadata": {
    "id": "c0qFCsIAJ7J4"
   },
   "source": [
    "## Constants and hyperparameters"
   ]
  },
  {
   "cell_type": "code",
   "execution_count": 2,
   "metadata": {
    "id": "yMP826LWJ7J4"
   },
   "outputs": [],
   "source": [
    "batch_size = 64\n",
    "num_channels = 1\n",
    "num_classes = 10\n",
    "image_size = 28\n",
    "latent_dim = 128"
   ]
  },
  {
   "cell_type": "markdown",
   "metadata": {
    "id": "81JnedEGJ7J4"
   },
   "source": [
    "## Loading the MNIST dataset and preprocessing it"
   ]
  },
  {
   "cell_type": "code",
   "execution_count": 3,
   "metadata": {
    "id": "RQf0zowEJ7J4"
   },
   "outputs": [
    {
     "name": "stdout",
     "output_type": "stream",
     "text": [
      "Metal device set to: Apple M1 Pro\n",
      "Shape of training images: (70000, 28, 28, 1)\n",
      "Shape of training labels: (70000, 10)\n"
     ]
    },
    {
     "name": "stderr",
     "output_type": "stream",
     "text": [
      "2023-01-08 12:33:48.065269: I tensorflow/core/common_runtime/pluggable_device/pluggable_device_factory.cc:305] Could not identify NUMA node of platform GPU ID 0, defaulting to 0. Your kernel may not have been built with NUMA support.\n",
      "2023-01-08 12:33:48.065434: I tensorflow/core/common_runtime/pluggable_device/pluggable_device_factory.cc:271] Created TensorFlow device (/job:localhost/replica:0/task:0/device:GPU:0 with 0 MB memory) -> physical PluggableDevice (device: 0, name: METAL, pci bus id: <undefined>)\n"
     ]
    }
   ],
   "source": [
    "# We'll use all the available examples from both the training and test\n",
    "# sets.\n",
    "(x_train, y_train), (x_test, y_test) = keras.datasets.mnist.load_data()\n",
    "all_digits = np.concatenate([x_train, x_test])\n",
    "all_labels = np.concatenate([y_train, y_test])\n",
    "\n",
    "# Scale the pixel values to [0, 1] range, add a channel dimension to\n",
    "# the images, and one-hot encode the labels.\n",
    "all_digits = all_digits.astype(\"float32\") / 255.0\n",
    "all_digits = np.reshape(all_digits, (-1, 28, 28, 1))\n",
    "all_labels = keras.utils.to_categorical(all_labels, 10)\n",
    "\n",
    "# Create tf.data.Dataset.\n",
    "dataset = tf.data.Dataset.from_tensor_slices((all_digits, all_labels))\n",
    "dataset = dataset.shuffle(buffer_size=1024).batch(batch_size)\n",
    "\n",
    "print(f\"Shape of training images: {all_digits.shape}\")\n",
    "print(f\"Shape of training labels: {all_labels.shape}\")"
   ]
  },
  {
   "cell_type": "markdown",
   "metadata": {
    "id": "ZY1QWlUSJ7J5"
   },
   "source": [
    "## Calculating the number of input channel for the generator and discriminator\n",
    "\n",
    "In a regular (unconditional) GAN, we start by sampling noise (of some fixed\n",
    "dimension) from a normal distribution. In our case, we also need to account\n",
    "for the class labels. We will have to add the number of classes to\n",
    "the input channels of the generator (noise input) as well as the discriminator\n",
    "(generated image input)."
   ]
  },
  {
   "cell_type": "code",
   "execution_count": 4,
   "metadata": {
    "id": "zyb-ALD7J7J5"
   },
   "outputs": [
    {
     "name": "stdout",
     "output_type": "stream",
     "text": [
      "138 11\n"
     ]
    }
   ],
   "source": [
    "generator_in_channels = latent_dim + num_classes\n",
    "discriminator_in_channels = num_channels + num_classes\n",
    "print(generator_in_channels, discriminator_in_channels)"
   ]
  },
  {
   "cell_type": "markdown",
   "metadata": {
    "id": "tdlP8JNeJ7J5"
   },
   "source": [
    "## Creating the discriminator and generator\n",
    "\n",
    "The model definitions (`discriminator`, `generator`, and `ConditionalGAN`) have been\n",
    "adapted from [this example](https://keras.io/guides/customizing_what_happens_in_fit/)."
   ]
  },
  {
   "cell_type": "code",
   "execution_count": 5,
   "metadata": {
    "id": "ieobr6VdJ7J5"
   },
   "outputs": [],
   "source": [
    "# Create the discriminator.\n",
    "discriminator = keras.Sequential(\n",
    "    [\n",
    "        keras.layers.InputLayer((28, 28, discriminator_in_channels)),\n",
    "        layers.Conv2D(64, (3, 3), strides=(2, 2), padding=\"same\"),\n",
    "        layers.LeakyReLU(alpha=0.2),\n",
    "        layers.Conv2D(128, (3, 3), strides=(2, 2), padding=\"same\"),\n",
    "        layers.LeakyReLU(alpha=0.2),\n",
    "        layers.GlobalMaxPooling2D(),\n",
    "        layers.Dense(1),\n",
    "    ],\n",
    "    name=\"discriminator\",\n",
    ")\n",
    "\n",
    "# Create the generator.\n",
    "generator = keras.Sequential(\n",
    "    [\n",
    "        keras.layers.InputLayer((generator_in_channels,)),\n",
    "        # We want to generate 128 + num_classes coefficients to reshape into a\n",
    "        # 7x7x(128 + num_classes) map.\n",
    "        layers.Dense(7 * 7 * generator_in_channels),\n",
    "        layers.LeakyReLU(alpha=0.2),\n",
    "        layers.Reshape((7, 7, generator_in_channels)),\n",
    "        layers.Conv2DTranspose(128, (4, 4), strides=(2, 2), padding=\"same\"),\n",
    "        layers.LeakyReLU(alpha=0.2),\n",
    "        layers.Conv2DTranspose(128, (4, 4), strides=(2, 2), padding=\"same\"),\n",
    "        layers.LeakyReLU(alpha=0.2),\n",
    "        layers.Conv2D(1, (7, 7), padding=\"same\", activation=\"sigmoid\"),\n",
    "    ],\n",
    "    name=\"generator\",\n",
    ")"
   ]
  },
  {
   "cell_type": "markdown",
   "metadata": {
    "id": "aL07GcCYJ7J5"
   },
   "source": [
    "## Creating a `ConditionalGAN` model"
   ]
  },
  {
   "cell_type": "code",
   "execution_count": 6,
   "metadata": {
    "id": "bd3qpO-KJ7J5"
   },
   "outputs": [],
   "source": [
    "\n",
    "class ConditionalGAN(keras.Model):\n",
    "    def __init__(self, discriminator, generator, latent_dim):\n",
    "        super().__init__()\n",
    "        self.discriminator = discriminator\n",
    "        self.generator = generator\n",
    "        self.latent_dim = latent_dim\n",
    "        self.gen_loss_tracker = keras.metrics.Mean(name=\"generator_loss\")\n",
    "        self.disc_loss_tracker = keras.metrics.Mean(name=\"discriminator_loss\")\n",
    "\n",
    "    @property\n",
    "    def metrics(self):\n",
    "        return [self.gen_loss_tracker, self.disc_loss_tracker]\n",
    "\n",
    "    def compile(self, d_optimizer, g_optimizer, loss_fn):\n",
    "        super().compile()\n",
    "        self.d_optimizer = d_optimizer\n",
    "        self.g_optimizer = g_optimizer\n",
    "        self.loss_fn = loss_fn\n",
    "\n",
    "    def train_step(self, data):\n",
    "        # Unpack the data.\n",
    "        real_images, one_hot_labels = data\n",
    "\n",
    "        # Add dummy dimensions to the labels so that they can be concatenated with\n",
    "        # the images. This is for the discriminator.\n",
    "        image_one_hot_labels = one_hot_labels[:, :, None, None]\n",
    "        image_one_hot_labels = tf.repeat(\n",
    "            image_one_hot_labels, repeats=[image_size * image_size]\n",
    "        )\n",
    "        image_one_hot_labels = tf.reshape(\n",
    "            image_one_hot_labels, (-1, image_size, image_size, num_classes)\n",
    "        )\n",
    "\n",
    "        # Sample random points in the latent space and concatenate the labels.\n",
    "        # This is for the generator.\n",
    "        batch_size = tf.shape(real_images)[0]\n",
    "        random_latent_vectors = tf.random.normal(shape=(batch_size, self.latent_dim))\n",
    "        random_vector_labels = tf.concat(\n",
    "            [random_latent_vectors, one_hot_labels], axis=1\n",
    "        )\n",
    "\n",
    "        # Decode the noise (guided by labels) to fake images.\n",
    "        generated_images = self.generator(random_vector_labels)\n",
    "\n",
    "        # Combine them with real images. Note that we are concatenating the labels\n",
    "        # with these images here.\n",
    "        fake_image_and_labels = tf.concat([generated_images, image_one_hot_labels], -1)\n",
    "        real_image_and_labels = tf.concat([real_images, image_one_hot_labels], -1)\n",
    "        combined_images = tf.concat(\n",
    "            [fake_image_and_labels, real_image_and_labels], axis=0\n",
    "        )\n",
    "\n",
    "        # Assemble labels discriminating real from fake images.\n",
    "        labels = tf.concat(\n",
    "            [tf.ones((batch_size, 1)), tf.zeros((batch_size, 1))], axis=0\n",
    "        )\n",
    "\n",
    "        # Train the discriminator.\n",
    "        with tf.GradientTape() as tape:\n",
    "            predictions = self.discriminator(combined_images)\n",
    "            d_loss = self.loss_fn(labels, predictions)\n",
    "        grads = tape.gradient(d_loss, self.discriminator.trainable_weights)\n",
    "        self.d_optimizer.apply_gradients(\n",
    "            zip(grads, self.discriminator.trainable_weights)\n",
    "        )\n",
    "\n",
    "        # Sample random points in the latent space.\n",
    "        random_latent_vectors = tf.random.normal(shape=(batch_size, self.latent_dim))\n",
    "        random_vector_labels = tf.concat(\n",
    "            [random_latent_vectors, one_hot_labels], axis=1\n",
    "        )\n",
    "\n",
    "        # Assemble labels that say \"all real images\".\n",
    "        misleading_labels = tf.zeros((batch_size, 1))\n",
    "\n",
    "        # Train the generator (note that we should *not* update the weights\n",
    "        # of the discriminator)!\n",
    "        with tf.GradientTape() as tape:\n",
    "            fake_images = self.generator(random_vector_labels)\n",
    "            fake_image_and_labels = tf.concat([fake_images, image_one_hot_labels], -1)\n",
    "            predictions = self.discriminator(fake_image_and_labels)\n",
    "            g_loss = self.loss_fn(misleading_labels, predictions)\n",
    "        grads = tape.gradient(g_loss, self.generator.trainable_weights)\n",
    "        self.g_optimizer.apply_gradients(zip(grads, self.generator.trainable_weights))\n",
    "\n",
    "        # Monitor loss.\n",
    "        self.gen_loss_tracker.update_state(g_loss)\n",
    "        self.disc_loss_tracker.update_state(d_loss)\n",
    "        return {\n",
    "            \"g_loss\": self.gen_loss_tracker.result(),\n",
    "            \"d_loss\": self.disc_loss_tracker.result(),\n",
    "        }\n"
   ]
  },
  {
   "cell_type": "markdown",
   "metadata": {
    "id": "sX2EiB52J7J5"
   },
   "source": [
    "## Training the Conditional GAN"
   ]
  },
  {
   "cell_type": "code",
   "execution_count": null,
   "metadata": {},
   "outputs": [],
   "source": [
    "print(\"Num GPUs Available: \", len(tf.config.list_physical_devices('GPU')))"
   ]
  },
  {
   "cell_type": "code",
   "execution_count": 7,
   "metadata": {
    "id": "RWNBoj0-J7J5"
   },
   "outputs": [
    {
     "name": "stdout",
     "output_type": "stream",
     "text": [
      "Epoch 1/20\n"
     ]
    },
    {
     "name": "stderr",
     "output_type": "stream",
     "text": [
      "2023-01-08 12:39:10.895810: W tensorflow/core/platform/profile_utils/cpu_utils.cc:128] Failed to get CPU frequency: 0 Hz\n",
      "2023-01-08 12:39:10.899327: I tensorflow/core/grappler/optimizers/custom_graph_optimizer_registry.cc:113] Plugin optimizer for device_type GPU is enabled.\n"
     ]
    },
    {
     "name": "stdout",
     "output_type": "stream",
     "text": [
      "1094/1094 [==============================] - 98s 85ms/step - g_loss: 1.0815 - d_loss: 0.5661\n",
      "Epoch 2/20\n",
      "1094/1094 [==============================] - 92s 84ms/step - g_loss: 1.1921 - d_loss: 0.5343\n",
      "Epoch 3/20\n",
      "1094/1094 [==============================] - 91s 84ms/step - g_loss: 1.7301 - d_loss: 0.3035\n",
      "Epoch 4/20\n",
      "1094/1094 [==============================] - 87s 79ms/step - g_loss: 2.3106 - d_loss: 0.2282\n",
      "Epoch 5/20\n",
      "1094/1094 [==============================] - 87s 80ms/step - g_loss: 0.7920 - d_loss: 0.7068\n",
      "Epoch 6/20\n",
      "1094/1094 [==============================] - 85s 78ms/step - g_loss: 0.6994 - d_loss: 0.7254\n",
      "Epoch 7/20\n",
      "1094/1094 [==============================] - 85s 78ms/step - g_loss: 0.6830 - d_loss: 0.7199\n",
      "Epoch 8/20\n",
      "1094/1094 [==============================] - 86s 79ms/step - g_loss: 0.6843 - d_loss: 0.7087\n",
      "Epoch 9/20\n",
      "1094/1094 [==============================] - 86s 78ms/step - g_loss: 0.6889 - d_loss: 0.7025\n",
      "Epoch 10/20\n",
      "1094/1094 [==============================] - 86s 79ms/step - g_loss: 0.6904 - d_loss: 0.6998\n",
      "Epoch 11/20\n",
      "1094/1094 [==============================] - 85s 78ms/step - g_loss: 0.6906 - d_loss: 0.6983\n",
      "Epoch 12/20\n",
      "1094/1094 [==============================] - 85s 77ms/step - g_loss: 0.6922 - d_loss: 0.6973\n",
      "Epoch 13/20\n",
      "1094/1094 [==============================] - 85s 77ms/step - g_loss: 0.6917 - d_loss: 0.6971\n",
      "Epoch 14/20\n",
      "1094/1094 [==============================] - 85s 77ms/step - g_loss: 1.4254 - d_loss: 0.4611\n",
      "Epoch 15/20\n",
      "1094/1094 [==============================] - 86s 78ms/step - g_loss: 0.7954 - d_loss: 0.6656\n",
      "Epoch 16/20\n",
      "1094/1094 [==============================] - 85s 78ms/step - g_loss: 0.7034 - d_loss: 0.7038\n",
      "Epoch 17/20\n",
      "1094/1094 [==============================] - 85s 77ms/step - g_loss: 0.6904 - d_loss: 0.7040\n",
      "Epoch 18/20\n",
      "1094/1094 [==============================] - 85s 78ms/step - g_loss: 0.6889 - d_loss: 0.7027\n",
      "Epoch 19/20\n",
      "1094/1094 [==============================] - 85s 77ms/step - g_loss: 0.6892 - d_loss: 0.7006\n",
      "Epoch 20/20\n",
      "1094/1094 [==============================] - 85s 77ms/step - g_loss: 0.6901 - d_loss: 0.6990\n"
     ]
    },
    {
     "data": {
      "text/plain": [
       "<keras.callbacks.History at 0x2cdd487f0>"
      ]
     },
     "execution_count": 7,
     "metadata": {},
     "output_type": "execute_result"
    }
   ],
   "source": [
    "cond_gan = ConditionalGAN(\n",
    "    discriminator=discriminator, generator=generator, latent_dim=latent_dim\n",
    ")\n",
    "cond_gan.compile(\n",
    "    d_optimizer=keras.optimizers.Adam(learning_rate=0.0003),\n",
    "    g_optimizer=keras.optimizers.Adam(learning_rate=0.0003),\n",
    "    loss_fn=keras.losses.BinaryCrossentropy(from_logits=True),\n",
    ")\n",
    "\n",
    "cond_gan.fit(dataset, epochs=20)"
   ]
  },
  {
   "cell_type": "markdown",
   "metadata": {
    "id": "PoeLdfqtJ7J5"
   },
   "source": [
    "## Interpolating between classes with the trained generator"
   ]
  },
  {
   "cell_type": "code",
   "execution_count": 8,
   "metadata": {
    "id": "Ni29ccS_J7J6"
   },
   "outputs": [
    {
     "name": "stdout",
     "output_type": "stream",
     "text": [
      "1/1 [==============================] - 0s 340ms/step\n"
     ]
    },
    {
     "name": "stderr",
     "output_type": "stream",
     "text": [
      "2023-01-08 15:21:22.759662: I tensorflow/core/grappler/optimizers/custom_graph_optimizer_registry.cc:113] Plugin optimizer for device_type GPU is enabled.\n"
     ]
    }
   ],
   "source": [
    "# We first extract the trained generator from our Conditiona GAN.\n",
    "trained_gen = cond_gan.generator\n",
    "\n",
    "# Choose the number of intermediate images that would be generated in\n",
    "# between the interpolation + 2 (start and last images).\n",
    "num_interpolation = 9  # @param {type:\"integer\"}\n",
    "\n",
    "# Sample noise for the interpolation.\n",
    "interpolation_noise = tf.random.normal(shape=(1, latent_dim))\n",
    "interpolation_noise = tf.repeat(interpolation_noise, repeats=num_interpolation)\n",
    "interpolation_noise = tf.reshape(interpolation_noise, (num_interpolation, latent_dim))\n",
    "\n",
    "\n",
    "def interpolate_class(first_number, second_number):\n",
    "    # Convert the start and end labels to one-hot encoded vectors.\n",
    "    first_label = keras.utils.to_categorical([first_number], num_classes)\n",
    "    second_label = keras.utils.to_categorical([second_number], num_classes)\n",
    "    first_label = tf.cast(first_label, tf.float32)\n",
    "    second_label = tf.cast(second_label, tf.float32)\n",
    "\n",
    "    # Calculate the interpolation vector between the two labels.\n",
    "    percent_second_label = tf.linspace(0, 1, num_interpolation)[:, None]\n",
    "    percent_second_label = tf.cast(percent_second_label, tf.float32)\n",
    "    interpolation_labels = (\n",
    "        first_label * (1 - percent_second_label) + second_label * percent_second_label\n",
    "    )\n",
    "\n",
    "    # Combine the noise and the labels and run inference with the generator.\n",
    "    noise_and_labels = tf.concat([interpolation_noise, interpolation_labels], 1)\n",
    "    fake = trained_gen.predict(noise_and_labels)\n",
    "    return fake\n",
    "\n",
    "\n",
    "start_class = 1  # @param {type:\"slider\", min:0, max:9, step:1}\n",
    "end_class = 5  # @param {type:\"slider\", min:0, max:9, step:1}\n",
    "\n",
    "fake_images = interpolate_class(start_class, end_class)"
   ]
  },
  {
   "cell_type": "markdown",
   "metadata": {
    "id": "dcvlQWM_J7J6"
   },
   "source": [
    "Here, we first sample noise from a normal distribution and then we repeat that for\n",
    "`num_interpolation` times and reshape the result accordingly.\n",
    "We then distribute it uniformly for `num_interpolation`\n",
    "with the label indentities being present in some proportion."
   ]
  },
  {
   "cell_type": "code",
   "execution_count": 9,
   "metadata": {
    "id": "FiNrJ1CaJ7J6"
   },
   "outputs": [
    {
     "data": {
      "text/html": [
       "<img src=\"data:image/gif;base64,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\"/>"
      ],
      "text/plain": [
       "<IPython.core.display.HTML object>"
      ]
     },
     "execution_count": 9,
     "metadata": {},
     "output_type": "execute_result"
    }
   ],
   "source": [
    "fake_images *= 255.0\n",
    "converted_images = fake_images.astype(np.uint8)\n",
    "converted_images = tf.image.resize(converted_images, (96, 96)).numpy().astype(np.uint8)\n",
    "imageio.mimsave(\"animation.gif\", converted_images, fps=1)\n",
    "embed.embed_file(\"animation.gif\")"
   ]
  },
  {
   "cell_type": "markdown",
   "metadata": {
    "id": "GB6cL4dfJ7J6"
   },
   "source": [
    "We can further improve the performance of this model with recipes like\n",
    "[WGAN-GP](https://keras.io/examples/generative/wgan_gp).\n",
    "Conditional generation is also widely used in many modern image generation architectures like\n",
    "[VQ-GANs](https://arxiv.org/abs/2012.09841), [DALL-E](https://openai.com/blog/dall-e/),\n",
    "etc.\n",
    "\n",
    "You can use the trained model hosted on [Hugging Face Hub](https://huggingface.co/keras-io/conditional-gan) and try the demo on [Hugging Face Spaces](https://huggingface.co/spaces/keras-io/conditional-GAN)."
   ]
  }
 ],
 "metadata": {
  "accelerator": "GPU",
  "colab": {
   "name": "conditional_gan",
   "provenance": [],
   "toc_visible": true
  },
  "kernelspec": {
   "display_name": "Python 3 (ipykernel)",
   "language": "python",
   "name": "python3"
  },
  "language_info": {
   "codemirror_mode": {
    "name": "ipython",
    "version": 3
   },
   "file_extension": ".py",
   "mimetype": "text/x-python",
   "name": "python",
   "nbconvert_exporter": "python",
   "pygments_lexer": "ipython3",
   "version": "3.9.6"
  }
 },
 "nbformat": 4,
 "nbformat_minor": 1
}
